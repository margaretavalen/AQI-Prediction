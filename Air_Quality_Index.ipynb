{
 "cells": [
  {
   "cell_type": "markdown",
   "id": "35f55ee9-bf0e-4a8b-803e-117037ee97c3",
   "metadata": {},
   "source": [
    "## IMPORT LIBRARY"
   ]
  },
  {
   "cell_type": "code",
   "execution_count": 4,
   "id": "dfcab410-f778-4d8d-a2df-00f2821d79fc",
   "metadata": {},
   "outputs": [],
   "source": [
    "import numpy as np \n",
    "import pandas as pd \n",
    "import matplotlib.pyplot as plt \n",
    "import seaborn as sns\n",
    "import pickle\n",
    "import joblib\n",
    "from sklearn.svm import SVC\n",
    "from sklearn.metrics import confusion_matrix, classification_report\n",
    "from sklearn.model_selection import train_test_split, GridSearchCV\n",
    "from sklearn.preprocessing import LabelEncoder, MinMaxScaler\n",
    "from imblearn.over_sampling import SMOTE\n",
    "from collections import Counter"
   ]
  },
  {
   "cell_type": "markdown",
   "id": "a32ce168-1e07-43b8-904d-32f0fe63ea65",
   "metadata": {},
   "source": [
    "## IMPORT DATASET"
   ]
  },
  {
   "cell_type": "code",
   "execution_count": 5,
   "id": "80026d92-e01c-48d5-85f2-fae0e4abbc33",
   "metadata": {},
   "outputs": [
    {
     "data": {
      "text/html": [
       "<div>\n",
       "<style scoped>\n",
       "    .dataframe tbody tr th:only-of-type {\n",
       "        vertical-align: middle;\n",
       "    }\n",
       "\n",
       "    .dataframe tbody tr th {\n",
       "        vertical-align: top;\n",
       "    }\n",
       "\n",
       "    .dataframe thead th {\n",
       "        text-align: right;\n",
       "    }\n",
       "</style>\n",
       "<table border=\"1\" class=\"dataframe\">\n",
       "  <thead>\n",
       "    <tr style=\"text-align: right;\">\n",
       "      <th></th>\n",
       "      <th>Fitur</th>\n",
       "      <th>Definisi</th>\n",
       "      <th>Deskripsi</th>\n",
       "      <th>Satuan</th>\n",
       "    </tr>\n",
       "  </thead>\n",
       "  <tbody>\n",
       "    <tr>\n",
       "      <th>0</th>\n",
       "      <td>Tanggal</td>\n",
       "      <td>Tanggal dan Waktu Pengukuran</td>\n",
       "      <td>Tanggal dan waktu saat pengamatan dilakukan</td>\n",
       "      <td></td>\n",
       "    </tr>\n",
       "    <tr>\n",
       "      <th>1</th>\n",
       "      <td>Stasiun</td>\n",
       "      <td>Stasiun</td>\n",
       "      <td>Stasiun tempat pengukuran kualitas udara</td>\n",
       "      <td></td>\n",
       "    </tr>\n",
       "    <tr>\n",
       "      <th>2</th>\n",
       "      <td>PM10</td>\n",
       "      <td>Particulate Matter 10</td>\n",
       "      <td>Partikel halus dengan diameter ≤ 10 mikrometer di udara</td>\n",
       "      <td>ug/m3</td>\n",
       "    </tr>\n",
       "    <tr>\n",
       "      <th>3</th>\n",
       "      <td>PM2.5</td>\n",
       "      <td>Particulate Matter 2.5</td>\n",
       "      <td>Partikel halus dengan diameter ≤ 2.5 mikrometer di udara</td>\n",
       "      <td>ug/m3</td>\n",
       "    </tr>\n",
       "    <tr>\n",
       "      <th>4</th>\n",
       "      <td>SO2</td>\n",
       "      <td>Sulfur Dioksida</td>\n",
       "      <td>Gas yang terbentuk dari pembakaran bahan bakar fosil yang mengandung sulfur</td>\n",
       "      <td>ppm</td>\n",
       "    </tr>\n",
       "    <tr>\n",
       "      <th>5</th>\n",
       "      <td>CO</td>\n",
       "      <td>Karbon Monoksida</td>\n",
       "      <td>Gas tidak berwarna dan tidak berbau hasil pembakaran karbon yang tidak sempurna</td>\n",
       "      <td>ppm</td>\n",
       "    </tr>\n",
       "    <tr>\n",
       "      <th>6</th>\n",
       "      <td>O3</td>\n",
       "      <td>Konsentrasi Ozon</td>\n",
       "      <td>Keberadaan ozon di udara</td>\n",
       "      <td>ppm</td>\n",
       "    </tr>\n",
       "    <tr>\n",
       "      <th>7</th>\n",
       "      <td>NO2</td>\n",
       "      <td>Nitrogen Dioksida</td>\n",
       "      <td>Gas berwarna coklat kemerahan yang terbentuk dari oksidasi nitrogen oksida</td>\n",
       "      <td>ppm</td>\n",
       "    </tr>\n",
       "    <tr>\n",
       "      <th>8</th>\n",
       "      <td>Categori</td>\n",
       "      <td>Kategori AQI</td>\n",
       "      <td>Kategori hasil perhitungan indeks standar pencemaran udara</td>\n",
       "      <td></td>\n",
       "    </tr>\n",
       "  </tbody>\n",
       "</table>\n",
       "</div>"
      ],
      "text/plain": [
       "      Fitur                      Definisi  \\\n",
       "0   Tanggal  Tanggal dan Waktu Pengukuran   \n",
       "1   Stasiun                       Stasiun   \n",
       "2      PM10         Particulate Matter 10   \n",
       "3     PM2.5        Particulate Matter 2.5   \n",
       "4       SO2               Sulfur Dioksida   \n",
       "5        CO              Karbon Monoksida   \n",
       "6        O3              Konsentrasi Ozon   \n",
       "7       NO2             Nitrogen Dioksida   \n",
       "8  Categori                  Kategori AQI   \n",
       "\n",
       "                                                                         Deskripsi  \\\n",
       "0                                      Tanggal dan waktu saat pengamatan dilakukan   \n",
       "1                                         Stasiun tempat pengukuran kualitas udara   \n",
       "2                          Partikel halus dengan diameter ≤ 10 mikrometer di udara   \n",
       "3                         Partikel halus dengan diameter ≤ 2.5 mikrometer di udara   \n",
       "4      Gas yang terbentuk dari pembakaran bahan bakar fosil yang mengandung sulfur   \n",
       "5  Gas tidak berwarna dan tidak berbau hasil pembakaran karbon yang tidak sempurna   \n",
       "6                                                         Keberadaan ozon di udara   \n",
       "7       Gas berwarna coklat kemerahan yang terbentuk dari oksidasi nitrogen oksida   \n",
       "8                       Kategori hasil perhitungan indeks standar pencemaran udara   \n",
       "\n",
       "  Satuan  \n",
       "0         \n",
       "1         \n",
       "2  ug/m3  \n",
       "3  ug/m3  \n",
       "4    ppm  \n",
       "5    ppm  \n",
       "6    ppm  \n",
       "7    ppm  \n",
       "8         "
      ]
     },
     "metadata": {},
     "output_type": "display_data"
    }
   ],
   "source": [
    "pd.options.display.max_colwidth = 100\n",
    "params = [\n",
    "    ['Tanggal', 'Tanggal dan Waktu Pengukuran', 'Tanggal dan waktu saat pengamatan dilakukan',''],\n",
    "    ['Stasiun','Stasiun','Stasiun tempat pengukuran kualitas udara',''],\n",
    "    ['PM10', 'Particulate Matter 10', 'Partikel halus dengan diameter ≤ 10 mikrometer di udara', 'ug/m3'],\n",
    "    ['PM2.5', 'Particulate Matter 2.5', 'Partikel halus dengan diameter ≤ 2.5 mikrometer di udara', 'ug/m3'],\n",
    "    ['SO2', 'Sulfur Dioksida', 'Gas yang terbentuk dari pembakaran bahan bakar fosil yang mengandung sulfur', 'ppm'],\n",
    "    ['CO', 'Karbon Monoksida', 'Gas tidak berwarna dan tidak berbau hasil pembakaran karbon yang tidak sempurna', 'ppm'],\n",
    "    ['O3', 'Konsentrasi Ozon', 'Keberadaan ozon di udara', 'ppm'],\n",
    "    ['NO2', 'Nitrogen Dioksida', 'Gas berwarna coklat kemerahan yang terbentuk dari oksidasi nitrogen oksida', 'ppm'],\n",
    "    ['Categori','Kategori AQI','Kategori hasil perhitungan indeks standar pencemaran udara',''],\n",
    "]\n",
    "\n",
    "params_df = pd.DataFrame(params, columns=['Fitur', 'Definisi', 'Deskripsi', 'Satuan'])\n",
    "display(params_df)"
   ]
  },
  {
   "cell_type": "code",
   "execution_count": 6,
   "id": "7f1e1f5b-1c91-48e5-8b1c-7f13ef47cbe3",
   "metadata": {},
   "outputs": [
    {
     "data": {
      "text/html": [
       "<div>\n",
       "<style scoped>\n",
       "    .dataframe tbody tr th:only-of-type {\n",
       "        vertical-align: middle;\n",
       "    }\n",
       "\n",
       "    .dataframe tbody tr th {\n",
       "        vertical-align: top;\n",
       "    }\n",
       "\n",
       "    .dataframe thead th {\n",
       "        text-align: right;\n",
       "    }\n",
       "</style>\n",
       "<table border=\"1\" class=\"dataframe\">\n",
       "  <thead>\n",
       "    <tr style=\"text-align: right;\">\n",
       "      <th></th>\n",
       "      <th>tanggal</th>\n",
       "      <th>stasiun</th>\n",
       "      <th>pm10</th>\n",
       "      <th>pm25</th>\n",
       "      <th>so2</th>\n",
       "      <th>co</th>\n",
       "      <th>o3</th>\n",
       "      <th>no2</th>\n",
       "      <th>max</th>\n",
       "      <th>critical</th>\n",
       "      <th>categori</th>\n",
       "    </tr>\n",
       "  </thead>\n",
       "  <tbody>\n",
       "    <tr>\n",
       "      <th>0</th>\n",
       "      <td>2021-01-01</td>\n",
       "      <td>DKI4 (Lubang Buaya)</td>\n",
       "      <td>41.0</td>\n",
       "      <td>NaN</td>\n",
       "      <td>37.0</td>\n",
       "      <td>14.0</td>\n",
       "      <td>35.0</td>\n",
       "      <td>4.0</td>\n",
       "      <td>41</td>\n",
       "      <td>PM10</td>\n",
       "      <td>BAIK</td>\n",
       "    </tr>\n",
       "    <tr>\n",
       "      <th>1</th>\n",
       "      <td>2021-01-01</td>\n",
       "      <td>DKI1 (Bunderan HI)</td>\n",
       "      <td>38.0</td>\n",
       "      <td>53.0</td>\n",
       "      <td>29.0</td>\n",
       "      <td>6.0</td>\n",
       "      <td>31.0</td>\n",
       "      <td>13.0</td>\n",
       "      <td>53</td>\n",
       "      <td>PM25</td>\n",
       "      <td>SEDANG</td>\n",
       "    </tr>\n",
       "    <tr>\n",
       "      <th>2</th>\n",
       "      <td>2021-01-02</td>\n",
       "      <td>DKI1 (Bunderan HI)</td>\n",
       "      <td>27.0</td>\n",
       "      <td>46.0</td>\n",
       "      <td>27.0</td>\n",
       "      <td>7.0</td>\n",
       "      <td>47.0</td>\n",
       "      <td>7.0</td>\n",
       "      <td>47</td>\n",
       "      <td>O3</td>\n",
       "      <td>BAIK</td>\n",
       "    </tr>\n",
       "    <tr>\n",
       "      <th>3</th>\n",
       "      <td>2021-01-03</td>\n",
       "      <td>DKI1 (Bunderan HI)</td>\n",
       "      <td>44.0</td>\n",
       "      <td>58.0</td>\n",
       "      <td>25.0</td>\n",
       "      <td>7.0</td>\n",
       "      <td>40.0</td>\n",
       "      <td>13.0</td>\n",
       "      <td>58</td>\n",
       "      <td>PM25</td>\n",
       "      <td>SEDANG</td>\n",
       "    </tr>\n",
       "    <tr>\n",
       "      <th>4</th>\n",
       "      <td>2021-01-04</td>\n",
       "      <td>DKI1 (Bunderan HI)</td>\n",
       "      <td>30.0</td>\n",
       "      <td>48.0</td>\n",
       "      <td>24.0</td>\n",
       "      <td>4.0</td>\n",
       "      <td>32.0</td>\n",
       "      <td>7.0</td>\n",
       "      <td>48</td>\n",
       "      <td>PM25</td>\n",
       "      <td>BAIK</td>\n",
       "    </tr>\n",
       "  </tbody>\n",
       "</table>\n",
       "</div>"
      ],
      "text/plain": [
       "      tanggal              stasiun  pm10  pm25   so2    co    o3   no2 max  \\\n",
       "0  2021-01-01  DKI4 (Lubang Buaya)  41.0   NaN  37.0  14.0  35.0   4.0  41   \n",
       "1  2021-01-01   DKI1 (Bunderan HI)  38.0  53.0  29.0   6.0  31.0  13.0  53   \n",
       "2  2021-01-02   DKI1 (Bunderan HI)  27.0  46.0  27.0   7.0  47.0   7.0  47   \n",
       "3  2021-01-03   DKI1 (Bunderan HI)  44.0  58.0  25.0   7.0  40.0  13.0  58   \n",
       "4  2021-01-04   DKI1 (Bunderan HI)  30.0  48.0  24.0   4.0  32.0   7.0  48   \n",
       "\n",
       "  critical categori  \n",
       "0     PM10     BAIK  \n",
       "1     PM25   SEDANG  \n",
       "2       O3     BAIK  \n",
       "3     PM25   SEDANG  \n",
       "4     PM25     BAIK  "
      ]
     },
     "execution_count": 6,
     "metadata": {},
     "output_type": "execute_result"
    }
   ],
   "source": [
    "df = pd.read_csv(\"dataset/ispu_jakarta.csv\")\n",
    "df.head()"
   ]
  },
  {
   "cell_type": "code",
   "execution_count": 7,
   "id": "d3430189-bfc6-4b13-9ff4-9859f92ad19e",
   "metadata": {},
   "outputs": [
    {
     "name": "stdout",
     "output_type": "stream",
     "text": [
      "<class 'pandas.core.frame.DataFrame'>\n",
      "RangeIndex: 775 entries, 0 to 774\n",
      "Data columns (total 11 columns):\n",
      " #   Column    Non-Null Count  Dtype  \n",
      "---  ------    --------------  -----  \n",
      " 0   tanggal   775 non-null    object \n",
      " 1   stasiun   775 non-null    object \n",
      " 2   pm10      743 non-null    float64\n",
      " 3   pm25      732 non-null    float64\n",
      " 4   so2       753 non-null    float64\n",
      " 5   co        762 non-null    float64\n",
      " 6   o3        739 non-null    float64\n",
      " 7   no2       760 non-null    float64\n",
      " 8   max       775 non-null    object \n",
      " 9   critical  775 non-null    object \n",
      " 10  categori  774 non-null    object \n",
      "dtypes: float64(6), object(5)\n",
      "memory usage: 66.7+ KB\n"
     ]
    }
   ],
   "source": [
    "df.info()"
   ]
  },
  {
   "cell_type": "code",
   "execution_count": 8,
   "id": "fbfa5335-4ada-45ee-a6a4-25e8e5695992",
   "metadata": {},
   "outputs": [
    {
     "name": "stdout",
     "output_type": "stream",
     "text": [
      "categori\n",
      "SEDANG         344\n",
      "TIDAK SEHAT    265\n",
      "BAIK           165\n",
      "Name: count, dtype: int64\n"
     ]
    }
   ],
   "source": [
    "counts = df['categori'].value_counts()\n",
    "\n",
    "print(counts)"
   ]
  },
  {
   "cell_type": "markdown",
   "id": "b1a45ddc-3d58-415a-af86-37b3901e2404",
   "metadata": {},
   "source": [
    "## PREPROCESSING"
   ]
  },
  {
   "cell_type": "markdown",
   "id": "83f34c54-88bf-480e-939b-5c64a251b831",
   "metadata": {},
   "source": [
    "#### 1. Transformasi Data\n",
    "\n",
    "AQI category terdiri dari :\n",
    "\n",
    "- Baik = 0\n",
    "- Sedang = 1\n",
    "- Tidak Sehat = 2\n",
    "- Sangat Tidak Sehat = 3"
   ]
  },
  {
   "cell_type": "code",
   "execution_count": 9,
   "id": "900047eb-a6b1-45d6-a44e-4a130aa54a12",
   "metadata": {},
   "outputs": [
    {
     "data": {
      "text/html": [
       "<div>\n",
       "<style scoped>\n",
       "    .dataframe tbody tr th:only-of-type {\n",
       "        vertical-align: middle;\n",
       "    }\n",
       "\n",
       "    .dataframe tbody tr th {\n",
       "        vertical-align: top;\n",
       "    }\n",
       "\n",
       "    .dataframe thead th {\n",
       "        text-align: right;\n",
       "    }\n",
       "</style>\n",
       "<table border=\"1\" class=\"dataframe\">\n",
       "  <thead>\n",
       "    <tr style=\"text-align: right;\">\n",
       "      <th></th>\n",
       "      <th>tanggal</th>\n",
       "      <th>stasiun</th>\n",
       "      <th>pm10</th>\n",
       "      <th>pm25</th>\n",
       "      <th>so2</th>\n",
       "      <th>co</th>\n",
       "      <th>o3</th>\n",
       "      <th>no2</th>\n",
       "      <th>max</th>\n",
       "      <th>critical</th>\n",
       "      <th>categori</th>\n",
       "    </tr>\n",
       "  </thead>\n",
       "  <tbody>\n",
       "    <tr>\n",
       "      <th>0</th>\n",
       "      <td>2021-01-01</td>\n",
       "      <td>DKI4 (Lubang Buaya)</td>\n",
       "      <td>41.0</td>\n",
       "      <td>NaN</td>\n",
       "      <td>37.0</td>\n",
       "      <td>14.0</td>\n",
       "      <td>35.0</td>\n",
       "      <td>4.0</td>\n",
       "      <td>41</td>\n",
       "      <td>PM10</td>\n",
       "      <td>0</td>\n",
       "    </tr>\n",
       "    <tr>\n",
       "      <th>1</th>\n",
       "      <td>2021-01-01</td>\n",
       "      <td>DKI1 (Bunderan HI)</td>\n",
       "      <td>38.0</td>\n",
       "      <td>53.0</td>\n",
       "      <td>29.0</td>\n",
       "      <td>6.0</td>\n",
       "      <td>31.0</td>\n",
       "      <td>13.0</td>\n",
       "      <td>53</td>\n",
       "      <td>PM25</td>\n",
       "      <td>1</td>\n",
       "    </tr>\n",
       "    <tr>\n",
       "      <th>2</th>\n",
       "      <td>2021-01-02</td>\n",
       "      <td>DKI1 (Bunderan HI)</td>\n",
       "      <td>27.0</td>\n",
       "      <td>46.0</td>\n",
       "      <td>27.0</td>\n",
       "      <td>7.0</td>\n",
       "      <td>47.0</td>\n",
       "      <td>7.0</td>\n",
       "      <td>47</td>\n",
       "      <td>O3</td>\n",
       "      <td>0</td>\n",
       "    </tr>\n",
       "    <tr>\n",
       "      <th>3</th>\n",
       "      <td>2021-01-03</td>\n",
       "      <td>DKI1 (Bunderan HI)</td>\n",
       "      <td>44.0</td>\n",
       "      <td>58.0</td>\n",
       "      <td>25.0</td>\n",
       "      <td>7.0</td>\n",
       "      <td>40.0</td>\n",
       "      <td>13.0</td>\n",
       "      <td>58</td>\n",
       "      <td>PM25</td>\n",
       "      <td>1</td>\n",
       "    </tr>\n",
       "    <tr>\n",
       "      <th>4</th>\n",
       "      <td>2021-01-04</td>\n",
       "      <td>DKI1 (Bunderan HI)</td>\n",
       "      <td>30.0</td>\n",
       "      <td>48.0</td>\n",
       "      <td>24.0</td>\n",
       "      <td>4.0</td>\n",
       "      <td>32.0</td>\n",
       "      <td>7.0</td>\n",
       "      <td>48</td>\n",
       "      <td>PM25</td>\n",
       "      <td>0</td>\n",
       "    </tr>\n",
       "  </tbody>\n",
       "</table>\n",
       "</div>"
      ],
      "text/plain": [
       "      tanggal              stasiun  pm10  pm25   so2    co    o3   no2 max  \\\n",
       "0  2021-01-01  DKI4 (Lubang Buaya)  41.0   NaN  37.0  14.0  35.0   4.0  41   \n",
       "1  2021-01-01   DKI1 (Bunderan HI)  38.0  53.0  29.0   6.0  31.0  13.0  53   \n",
       "2  2021-01-02   DKI1 (Bunderan HI)  27.0  46.0  27.0   7.0  47.0   7.0  47   \n",
       "3  2021-01-03   DKI1 (Bunderan HI)  44.0  58.0  25.0   7.0  40.0  13.0  58   \n",
       "4  2021-01-04   DKI1 (Bunderan HI)  30.0  48.0  24.0   4.0  32.0   7.0  48   \n",
       "\n",
       "  critical  categori  \n",
       "0     PM10         0  \n",
       "1     PM25         1  \n",
       "2       O3         0  \n",
       "3     PM25         1  \n",
       "4     PM25         0  "
      ]
     },
     "execution_count": 9,
     "metadata": {},
     "output_type": "execute_result"
    }
   ],
   "source": [
    "labelencoder = LabelEncoder()\n",
    "df['categori'] = labelencoder.fit_transform(df['categori'])\n",
    "\n",
    "df.head()"
   ]
  },
  {
   "cell_type": "code",
   "execution_count": 10,
   "id": "1d76ef73-e9a1-420a-86cb-d25780a92225",
   "metadata": {},
   "outputs": [
    {
     "data": {
      "image/png": "[encoded data removed]",
      "text/plain": [
       "<Figure size 640x480 with 1 Axes>"
      ]
     },
     "metadata": {},
     "output_type": "display_data"
    }
   ],
   "source": [
    "sns.countplot(x='categori', data=df, hue='categori', palette=\"mako_r\", dodge=False)\n",
    "plt.xlabel(\"Kategori (0 = BAIK, 1 = SEDANG, 2 = TIDAK SEHAT, 3 = SANGAT TIDAK SEHAT)\")\n",
    "plt.legend(title=None) \n",
    "plt.show()"
   ]
  },
  {
   "cell_type": "markdown",
   "id": "b644f870-7950-472e-9693-7e7240e63f4b",
   "metadata": {},
   "source": [
    "#### 2. Data Cleaning"
   ]
  },
  {
   "cell_type": "code",
   "execution_count": 11,
   "id": "80e7aaa4-ad1a-47eb-a45c-a8127a41778a",
   "metadata": {},
   "outputs": [
    {
     "data": {
      "text/plain": [
       "tanggal      0\n",
       "stasiun      0\n",
       "pm10        32\n",
       "pm25        43\n",
       "so2         22\n",
       "co          13\n",
       "o3          36\n",
       "no2         15\n",
       "max          0\n",
       "critical     0\n",
       "categori     0\n",
       "dtype: int64"
      ]
     },
     "execution_count": 11,
     "metadata": {},
     "output_type": "execute_result"
    }
   ],
   "source": [
    "df.isnull().sum()"
   ]
  },
  {
   "cell_type": "code",
   "execution_count": 12,
   "id": "8f83f915-0e94-4f97-aabd-6f0630aaca48",
   "metadata": {},
   "outputs": [
    {
     "data": {
      "text/plain": [
       "0"
      ]
     },
     "execution_count": 12,
     "metadata": {},
     "output_type": "execute_result"
    }
   ],
   "source": [
    "df.duplicated().sum()"
   ]
  },
  {
   "cell_type": "code",
   "execution_count": 13,
   "id": "bd45ea5e-bed9-424c-aea7-81a6e046f27c",
   "metadata": {},
   "outputs": [],
   "source": [
    "df = df.fillna(df.median(numeric_only=True))"
   ]
  },
  {
   "cell_type": "code",
   "execution_count": 14,
   "id": "b343cd8a-bb9e-4e9e-b1a4-61ccca866c8a",
   "metadata": {},
   "outputs": [
    {
     "data": {
      "text/plain": [
       "tanggal     0\n",
       "stasiun     0\n",
       "pm10        0\n",
       "pm25        0\n",
       "so2         0\n",
       "co          0\n",
       "o3          0\n",
       "no2         0\n",
       "max         0\n",
       "critical    0\n",
       "categori    0\n",
       "dtype: int64"
      ]
     },
     "execution_count": 14,
     "metadata": {},
     "output_type": "execute_result"
    }
   ],
   "source": [
    "df.isnull().sum()"
   ]
  },
  {
   "cell_type": "code",
   "execution_count": 15,
   "id": "300867fe-52fb-4843-896a-55ddf5e14802",
   "metadata": {},
   "outputs": [
    {
     "data": {
      "text/html": [
       "<div>\n",
       "<style scoped>\n",
       "    .dataframe tbody tr th:only-of-type {\n",
       "        vertical-align: middle;\n",
       "    }\n",
       "\n",
       "    .dataframe tbody tr th {\n",
       "        vertical-align: top;\n",
       "    }\n",
       "\n",
       "    .dataframe thead th {\n",
       "        text-align: right;\n",
       "    }\n",
       "</style>\n",
       "<table border=\"1\" class=\"dataframe\">\n",
       "  <thead>\n",
       "    <tr style=\"text-align: right;\">\n",
       "      <th></th>\n",
       "      <th>pm10</th>\n",
       "      <th>pm25</th>\n",
       "      <th>so2</th>\n",
       "      <th>co</th>\n",
       "      <th>o3</th>\n",
       "      <th>no2</th>\n",
       "      <th>categori</th>\n",
       "    </tr>\n",
       "  </thead>\n",
       "  <tbody>\n",
       "    <tr>\n",
       "      <th>0</th>\n",
       "      <td>41.0</td>\n",
       "      <td>86.0</td>\n",
       "      <td>37.0</td>\n",
       "      <td>14.0</td>\n",
       "      <td>35.0</td>\n",
       "      <td>4.0</td>\n",
       "      <td>0</td>\n",
       "    </tr>\n",
       "    <tr>\n",
       "      <th>1</th>\n",
       "      <td>38.0</td>\n",
       "      <td>53.0</td>\n",
       "      <td>29.0</td>\n",
       "      <td>6.0</td>\n",
       "      <td>31.0</td>\n",
       "      <td>13.0</td>\n",
       "      <td>1</td>\n",
       "    </tr>\n",
       "    <tr>\n",
       "      <th>2</th>\n",
       "      <td>27.0</td>\n",
       "      <td>46.0</td>\n",
       "      <td>27.0</td>\n",
       "      <td>7.0</td>\n",
       "      <td>47.0</td>\n",
       "      <td>7.0</td>\n",
       "      <td>0</td>\n",
       "    </tr>\n",
       "    <tr>\n",
       "      <th>3</th>\n",
       "      <td>44.0</td>\n",
       "      <td>58.0</td>\n",
       "      <td>25.0</td>\n",
       "      <td>7.0</td>\n",
       "      <td>40.0</td>\n",
       "      <td>13.0</td>\n",
       "      <td>1</td>\n",
       "    </tr>\n",
       "    <tr>\n",
       "      <th>4</th>\n",
       "      <td>30.0</td>\n",
       "      <td>48.0</td>\n",
       "      <td>24.0</td>\n",
       "      <td>4.0</td>\n",
       "      <td>32.0</td>\n",
       "      <td>7.0</td>\n",
       "      <td>0</td>\n",
       "    </tr>\n",
       "  </tbody>\n",
       "</table>\n",
       "</div>"
      ],
      "text/plain": [
       "   pm10  pm25   so2    co    o3   no2  categori\n",
       "0  41.0  86.0  37.0  14.0  35.0   4.0         0\n",
       "1  38.0  53.0  29.0   6.0  31.0  13.0         1\n",
       "2  27.0  46.0  27.0   7.0  47.0   7.0         0\n",
       "3  44.0  58.0  25.0   7.0  40.0  13.0         1\n",
       "4  30.0  48.0  24.0   4.0  32.0   7.0         0"
      ]
     },
     "execution_count": 15,
     "metadata": {},
     "output_type": "execute_result"
    }
   ],
   "source": [
    "df = df.drop(['tanggal','stasiun','max','critical'], axis=1)\n",
    "\n",
    "df.head()"
   ]
  },
  {
   "cell_type": "code",
   "execution_count": 16,
   "id": "06083b09-1aa6-4c28-a809-acc4024c4ea0",
   "metadata": {},
   "outputs": [
    {
     "data": {
      "text/html": [
       "<div>\n",
       "<style scoped>\n",
       "    .dataframe tbody tr th:only-of-type {\n",
       "        vertical-align: middle;\n",
       "    }\n",
       "\n",
       "    .dataframe tbody tr th {\n",
       "        vertical-align: top;\n",
       "    }\n",
       "\n",
       "    .dataframe thead th {\n",
       "        text-align: right;\n",
       "    }\n",
       "</style>\n",
       "<table border=\"1\" class=\"dataframe\">\n",
       "  <thead>\n",
       "    <tr style=\"text-align: right;\">\n",
       "      <th></th>\n",
       "      <th>pm10</th>\n",
       "      <th>pm25</th>\n",
       "      <th>so2</th>\n",
       "      <th>co</th>\n",
       "      <th>o3</th>\n",
       "      <th>no2</th>\n",
       "      <th>categori</th>\n",
       "    </tr>\n",
       "  </thead>\n",
       "  <tbody>\n",
       "    <tr>\n",
       "      <th>0</th>\n",
       "      <td>41.0</td>\n",
       "      <td>86.0</td>\n",
       "      <td>37.0</td>\n",
       "      <td>14.0</td>\n",
       "      <td>35.0</td>\n",
       "      <td>4.0</td>\n",
       "      <td>0</td>\n",
       "    </tr>\n",
       "    <tr>\n",
       "      <th>1</th>\n",
       "      <td>38.0</td>\n",
       "      <td>53.0</td>\n",
       "      <td>29.0</td>\n",
       "      <td>6.0</td>\n",
       "      <td>31.0</td>\n",
       "      <td>13.0</td>\n",
       "      <td>1</td>\n",
       "    </tr>\n",
       "    <tr>\n",
       "      <th>2</th>\n",
       "      <td>27.0</td>\n",
       "      <td>46.0</td>\n",
       "      <td>27.0</td>\n",
       "      <td>7.0</td>\n",
       "      <td>47.0</td>\n",
       "      <td>7.0</td>\n",
       "      <td>0</td>\n",
       "    </tr>\n",
       "    <tr>\n",
       "      <th>3</th>\n",
       "      <td>44.0</td>\n",
       "      <td>58.0</td>\n",
       "      <td>25.0</td>\n",
       "      <td>7.0</td>\n",
       "      <td>40.0</td>\n",
       "      <td>13.0</td>\n",
       "      <td>1</td>\n",
       "    </tr>\n",
       "    <tr>\n",
       "      <th>4</th>\n",
       "      <td>30.0</td>\n",
       "      <td>48.0</td>\n",
       "      <td>24.0</td>\n",
       "      <td>4.0</td>\n",
       "      <td>32.0</td>\n",
       "      <td>7.0</td>\n",
       "      <td>0</td>\n",
       "    </tr>\n",
       "  </tbody>\n",
       "</table>\n",
       "</div>"
      ],
      "text/plain": [
       "   pm10  pm25   so2    co    o3   no2  categori\n",
       "0  41.0  86.0  37.0  14.0  35.0   4.0         0\n",
       "1  38.0  53.0  29.0   6.0  31.0  13.0         1\n",
       "2  27.0  46.0  27.0   7.0  47.0   7.0         0\n",
       "3  44.0  58.0  25.0   7.0  40.0  13.0         1\n",
       "4  30.0  48.0  24.0   4.0  32.0   7.0         0"
      ]
     },
     "execution_count": 16,
     "metadata": {},
     "output_type": "execute_result"
    }
   ],
   "source": [
    "df = df[df.categori != 3]\n",
    "\n",
    "df.head()"
   ]
  },
  {
   "cell_type": "code",
   "execution_count": 17,
   "id": "067e0e83-20b4-4570-a598-670f8ce2db65",
   "metadata": {},
   "outputs": [],
   "source": [
    "%matplotlib inline"
   ]
  },
  {
   "cell_type": "code",
   "execution_count": 18,
   "id": "7375e778-dc94-4980-b57a-fccecfe04398",
   "metadata": {},
   "outputs": [
    {
     "data": {
      "text/html": [
       "<div>\n",
       "<style scoped>\n",
       "    .dataframe tbody tr th:only-of-type {\n",
       "        vertical-align: middle;\n",
       "    }\n",
       "\n",
       "    .dataframe tbody tr th {\n",
       "        vertical-align: top;\n",
       "    }\n",
       "\n",
       "    .dataframe thead th {\n",
       "        text-align: right;\n",
       "    }\n",
       "</style>\n",
       "<table border=\"1\" class=\"dataframe\">\n",
       "  <thead>\n",
       "    <tr style=\"text-align: right;\">\n",
       "      <th></th>\n",
       "      <th>pm10</th>\n",
       "      <th>pm25</th>\n",
       "      <th>so2</th>\n",
       "      <th>co</th>\n",
       "      <th>o3</th>\n",
       "      <th>no2</th>\n",
       "      <th>categori</th>\n",
       "    </tr>\n",
       "  </thead>\n",
       "  <tbody>\n",
       "    <tr>\n",
       "      <th>0</th>\n",
       "      <td>0.158537</td>\n",
       "      <td>0.428571</td>\n",
       "      <td>0.430380</td>\n",
       "      <td>0.285714</td>\n",
       "      <td>0.188811</td>\n",
       "      <td>0.000000</td>\n",
       "      <td>0</td>\n",
       "    </tr>\n",
       "    <tr>\n",
       "      <th>1</th>\n",
       "      <td>0.140244</td>\n",
       "      <td>0.214286</td>\n",
       "      <td>0.329114</td>\n",
       "      <td>0.095238</td>\n",
       "      <td>0.160839</td>\n",
       "      <td>0.152542</td>\n",
       "      <td>1</td>\n",
       "    </tr>\n",
       "    <tr>\n",
       "      <th>2</th>\n",
       "      <td>0.073171</td>\n",
       "      <td>0.168831</td>\n",
       "      <td>0.303797</td>\n",
       "      <td>0.119048</td>\n",
       "      <td>0.272727</td>\n",
       "      <td>0.050847</td>\n",
       "      <td>0</td>\n",
       "    </tr>\n",
       "    <tr>\n",
       "      <th>3</th>\n",
       "      <td>0.176829</td>\n",
       "      <td>0.246753</td>\n",
       "      <td>0.278481</td>\n",
       "      <td>0.119048</td>\n",
       "      <td>0.223776</td>\n",
       "      <td>0.152542</td>\n",
       "      <td>1</td>\n",
       "    </tr>\n",
       "    <tr>\n",
       "      <th>4</th>\n",
       "      <td>0.091463</td>\n",
       "      <td>0.181818</td>\n",
       "      <td>0.265823</td>\n",
       "      <td>0.047619</td>\n",
       "      <td>0.167832</td>\n",
       "      <td>0.050847</td>\n",
       "      <td>0</td>\n",
       "    </tr>\n",
       "  </tbody>\n",
       "</table>\n",
       "</div>"
      ],
      "text/plain": [
       "       pm10      pm25       so2        co        o3       no2  categori\n",
       "0  0.158537  0.428571  0.430380  0.285714  0.188811  0.000000         0\n",
       "1  0.140244  0.214286  0.329114  0.095238  0.160839  0.152542         1\n",
       "2  0.073171  0.168831  0.303797  0.119048  0.272727  0.050847         0\n",
       "3  0.176829  0.246753  0.278481  0.119048  0.223776  0.152542         1\n",
       "4  0.091463  0.181818  0.265823  0.047619  0.167832  0.050847         0"
      ]
     },
     "execution_count": 18,
     "metadata": {},
     "output_type": "execute_result"
    }
   ],
   "source": [
    "columns_to_normalize = ['pm10', 'pm25', 'so2', 'co', 'o3', 'no2']\n",
    "\n",
    "scaler = MinMaxScaler()\n",
    "\n",
    "df[columns_to_normalize] = scaler.fit_transform(df[columns_to_normalize])\n",
    "\n",
    "df.head()"
   ]
  },
  {
   "cell_type": "code",
   "execution_count": 19,
   "id": "68d2a8b7-6fd3-4226-821f-95a5a5a7cf9b",
   "metadata": {},
   "outputs": [
    {
     "data": {
      "text/html": [
       "<div>\n",
       "<style scoped>\n",
       "    .dataframe tbody tr th:only-of-type {\n",
       "        vertical-align: middle;\n",
       "    }\n",
       "\n",
       "    .dataframe tbody tr th {\n",
       "        vertical-align: top;\n",
       "    }\n",
       "\n",
       "    .dataframe thead th {\n",
       "        text-align: right;\n",
       "    }\n",
       "</style>\n",
       "<table border=\"1\" class=\"dataframe\">\n",
       "  <thead>\n",
       "    <tr style=\"text-align: right;\">\n",
       "      <th></th>\n",
       "      <th>pm10</th>\n",
       "      <th>pm25</th>\n",
       "      <th>so2</th>\n",
       "      <th>co</th>\n",
       "      <th>o3</th>\n",
       "      <th>no2</th>\n",
       "      <th>categori</th>\n",
       "    </tr>\n",
       "  </thead>\n",
       "  <tbody>\n",
       "    <tr>\n",
       "      <th>pm10</th>\n",
       "      <td>1.000000</td>\n",
       "      <td>0.805093</td>\n",
       "      <td>0.487488</td>\n",
       "      <td>0.400978</td>\n",
       "      <td>0.299966</td>\n",
       "      <td>0.492814</td>\n",
       "      <td>0.805703</td>\n",
       "    </tr>\n",
       "    <tr>\n",
       "      <th>pm25</th>\n",
       "      <td>0.805093</td>\n",
       "      <td>1.000000</td>\n",
       "      <td>0.360798</td>\n",
       "      <td>0.354685</td>\n",
       "      <td>0.229771</td>\n",
       "      <td>0.477632</td>\n",
       "      <td>0.818673</td>\n",
       "    </tr>\n",
       "    <tr>\n",
       "      <th>so2</th>\n",
       "      <td>0.487488</td>\n",
       "      <td>0.360798</td>\n",
       "      <td>1.000000</td>\n",
       "      <td>0.000705</td>\n",
       "      <td>0.352333</td>\n",
       "      <td>0.105760</td>\n",
       "      <td>0.412989</td>\n",
       "    </tr>\n",
       "    <tr>\n",
       "      <th>co</th>\n",
       "      <td>0.400978</td>\n",
       "      <td>0.354685</td>\n",
       "      <td>0.000705</td>\n",
       "      <td>1.000000</td>\n",
       "      <td>0.036114</td>\n",
       "      <td>0.500929</td>\n",
       "      <td>0.374179</td>\n",
       "    </tr>\n",
       "    <tr>\n",
       "      <th>o3</th>\n",
       "      <td>0.299966</td>\n",
       "      <td>0.229771</td>\n",
       "      <td>0.352333</td>\n",
       "      <td>0.036114</td>\n",
       "      <td>1.000000</td>\n",
       "      <td>0.010181</td>\n",
       "      <td>0.194969</td>\n",
       "    </tr>\n",
       "    <tr>\n",
       "      <th>no2</th>\n",
       "      <td>0.492814</td>\n",
       "      <td>0.477632</td>\n",
       "      <td>0.105760</td>\n",
       "      <td>0.500929</td>\n",
       "      <td>0.010181</td>\n",
       "      <td>1.000000</td>\n",
       "      <td>0.482279</td>\n",
       "    </tr>\n",
       "    <tr>\n",
       "      <th>categori</th>\n",
       "      <td>0.805703</td>\n",
       "      <td>0.818673</td>\n",
       "      <td>0.412989</td>\n",
       "      <td>0.374179</td>\n",
       "      <td>0.194969</td>\n",
       "      <td>0.482279</td>\n",
       "      <td>1.000000</td>\n",
       "    </tr>\n",
       "  </tbody>\n",
       "</table>\n",
       "</div>"
      ],
      "text/plain": [
       "              pm10      pm25       so2        co        o3       no2  categori\n",
       "pm10      1.000000  0.805093  0.487488  0.400978  0.299966  0.492814  0.805703\n",
       "pm25      0.805093  1.000000  0.360798  0.354685  0.229771  0.477632  0.818673\n",
       "so2       0.487488  0.360798  1.000000  0.000705  0.352333  0.105760  0.412989\n",
       "co        0.400978  0.354685  0.000705  1.000000  0.036114  0.500929  0.374179\n",
       "o3        0.299966  0.229771  0.352333  0.036114  1.000000  0.010181  0.194969\n",
       "no2       0.492814  0.477632  0.105760  0.500929  0.010181  1.000000  0.482279\n",
       "categori  0.805703  0.818673  0.412989  0.374179  0.194969  0.482279  1.000000"
      ]
     },
     "execution_count": 19,
     "metadata": {},
     "output_type": "execute_result"
    }
   ],
   "source": [
    "df.corr()"
   ]
  },
  {
   "cell_type": "code",
   "execution_count": 20,
   "id": "e4e7ba4d-9b85-414b-b1e2-2062533277f5",
   "metadata": {},
   "outputs": [
    {
     "data": {
      "image/png": "[encoded data removed]",
      "text/plain": [
       "<Figure size 640x480 with 2 Axes>"
      ]
     },
     "metadata": {},
     "output_type": "display_data"
    }
   ],
   "source": [
    "# Menampilkan heatmap dari matriks korelasi\n",
    "sns.heatmap(df.corr(), annot=True, cmap=\"coolwarm\", fmt=\".2f\")\n",
    "plt.show()"
   ]
  },
  {
   "cell_type": "code",
   "execution_count": 21,
   "id": "c543dd80-627f-4d4c-a406-4163989dbdbb",
   "metadata": {},
   "outputs": [],
   "source": [
    "joblib.dump(scaler, open('model/MinMaxScaler.pkl', 'wb'))"
   ]
  },
  {
   "cell_type": "markdown",
   "id": "22f7a07d-7d4e-409b-a7c4-7fe578901084",
   "metadata": {},
   "source": [
    "#### 3. Feature Selection"
   ]
  },
  {
   "cell_type": "code",
   "execution_count": 22,
   "id": "1e8a4c85-db31-4264-914b-aaf30f2449d0",
   "metadata": {},
   "outputs": [
    {
     "name": "stdout",
     "output_type": "stream",
     "text": [
      "pm10        0.805703\n",
      "pm25        0.818673\n",
      "so2         0.412989\n",
      "co          0.374179\n",
      "o3          0.194969\n",
      "no2         0.482279\n",
      "categori    1.000000\n",
      "Name: categori, dtype: float64\n"
     ]
    }
   ],
   "source": [
    "corr_matrix = df.corr()['categori']\n",
    "print(corr_matrix)"
   ]
  },
  {
   "cell_type": "markdown",
   "id": "ce45d4aa-a384-4eba-ad26-e5fb0a43ff63",
   "metadata": {},
   "source": [
    "## PREDICT"
   ]
  },
  {
   "cell_type": "code",
   "execution_count": 23,
   "id": "e3474ea1-ea78-48c4-b90d-c4b82f22ed1e",
   "metadata": {},
   "outputs": [],
   "source": [
    "y = df.categori.values\n",
    "x_data = df.drop(['categori'], axis = 1)"
   ]
  },
  {
   "cell_type": "code",
   "execution_count": 24,
   "id": "5559e9c1-b29d-43ff-a07a-28a455456c2f",
   "metadata": {},
   "outputs": [
    {
     "data": {
      "image/png": "[encoded data removed]",
      "text/plain": [
       "<Figure size 1000x600 with 1 Axes>"
      ]
     },
     "metadata": {},
     "output_type": "display_data"
    }
   ],
   "source": [
    "df['categori'].value_counts().plot(kind='bar',figsize=(10,6),color=['green','blue'])\n",
    "plt.title(\"Count of the target\")\n",
    "plt.xticks(rotation=0);"
   ]
  },
  {
   "cell_type": "markdown",
   "id": "eaa974e5-2349-4ec1-854e-937051e06729",
   "metadata": {},
   "source": [
    "#### 1. Balancing Data"
   ]
  },
  {
   "cell_type": "code",
   "execution_count": 25,
   "id": "5d0e97d9-5c89-41ea-a7e1-5b851257786e",
   "metadata": {},
   "outputs": [
    {
     "name": "stdout",
     "output_type": "stream",
     "text": [
      "Original dataset shape Counter({1: 344, 2: 265, 0: 165})\n",
      "Resampled ytrain dataset shape Counter({0: 344, 1: 344, 2: 344})\n"
     ]
    },
    {
     "data": {
      "image/png": "[encoded data removed]",
      "text/plain": [
       "<Figure size 1000x600 with 2 Axes>"
      ]
     },
     "metadata": {},
     "output_type": "display_data"
    }
   ],
   "source": [
    "smote = SMOTE(random_state=0)\n",
    "print('Original dataset shape %s' % Counter(y))\n",
    "x_train_smote, y_train_smote = smote.fit_resample(x_data, y)\n",
    "print('Resampled ytrain dataset shape %s' % Counter(y_train_smote))\n",
    "\n",
    "#Visualisasi\n",
    "\n",
    "plt.figure(figsize=(12,4))\n",
    "\n",
    "new_df1 = pd.DataFrame(data=y)\n",
    "plt.subplot(1, 2, 1)\n",
    "new_df1.value_counts().plot(kind='bar',figsize=(10,6),color=['green','blue','red','yellow'])\n",
    "plt.title(\"target before Resampled with SMOTE \")\n",
    "plt.xticks(rotation=0);\n",
    "\n",
    "\n",
    "new_df2 = pd.DataFrame(data=y_train_smote)\n",
    "plt.subplot(1, 2, 2)\n",
    "new_df2.value_counts().plot(kind='bar',figsize=(10,6),color=['green','blue','red','yellow'])\n",
    "plt.title(\"target after Resampled with SMOTE\")\n",
    "plt.xticks(rotation=0);\n",
    "plt.tight_layout()\n",
    "plt.show()"
   ]
  },
  {
   "cell_type": "markdown",
   "id": "4574098b-4c61-48c9-8ade-9fe5cbabbec5",
   "metadata": {},
   "source": [
    "#### 2. Splitting Data"
   ]
  },
  {
   "cell_type": "code",
   "execution_count": 26,
   "id": "e5734215-2fdc-49cb-95f6-a6c4059f179c",
   "metadata": {},
   "outputs": [],
   "source": [
    "x = (x_train_smote - np.min(x_train_smote)) / (np.max(x_train_smote) - np.min(x_train_smote))"
   ]
  },
  {
   "cell_type": "code",
   "execution_count": 27,
   "id": "b0b389fa-54e5-4b09-af1e-d3c0c337d3d8",
   "metadata": {},
   "outputs": [],
   "source": [
    "x_train, x_test, y_train, y_test = train_test_split(x_data,y,test_size = 0.3,random_state=0)"
   ]
  },
  {
   "cell_type": "code",
   "execution_count": 28,
   "id": "dfd96592-b65d-4714-a038-2c1191d4fb38",
   "metadata": {},
   "outputs": [],
   "source": [
    "x_train = x_train.T\n",
    "y_train = y_train.T\n",
    "x_test = x_test.T\n",
    "y_test = y_test.T"
   ]
  },
  {
   "cell_type": "markdown",
   "id": "259f8444-c166-4b16-bdaf-c00d39f2bdc7",
   "metadata": {},
   "source": [
    "## Membuat Model"
   ]
  },
  {
   "cell_type": "markdown",
   "id": "841363c3-a50f-49f5-b5d6-e6297adaf4ab",
   "metadata": {},
   "source": [
    "#### KNN"
   ]
  },
  {
   "cell_type": "code",
   "execution_count": 29,
   "id": "724214ac-1cfc-421c-9be3-70e595d5ec84",
   "metadata": {},
   "outputs": [],
   "source": [
    "accuracies = {}"
   ]
  },
  {
   "cell_type": "code",
   "execution_count": 30,
   "id": "0cf27237-c35f-4d2a-bf19-1237cd58c045",
   "metadata": {},
   "outputs": [
    {
     "name": "stdout",
     "output_type": "stream",
     "text": [
      "2 NN Score: 78.54%\n"
     ]
    }
   ],
   "source": [
    "from sklearn.neighbors import KNeighborsClassifier\n",
    "knn = KNeighborsClassifier(n_neighbors = 2)  # n_neighbors means k\n",
    "knn.fit(x_train.T, y_train.T)\n",
    "prediction = knn.predict(x_test.T)\n",
    "\n",
    "print(\"{} NN Score: {:.2f}%\".format(2, knn.score(x_test.T, y_test.T)*100))"
   ]
  },
  {
   "cell_type": "code",
   "execution_count": 31,
   "id": "f9bc3f43-0d6d-4c04-a56d-2d0e0ac2494d",
   "metadata": {},
   "outputs": [
    {
     "name": "stdout",
     "output_type": "stream",
     "text": [
      "Nilai k terbaik adalah 5\n",
      "Akurasi terbaik adalah 86.70%\n"
     ]
    },
    {
     "data": {
      "image/png": "[encoded data removed]",
      "text/plain": [
       "<Figure size 640x480 with 1 Axes>"
      ]
     },
     "metadata": {},
     "output_type": "display_data"
    }
   ],
   "source": [
    "scoreList = []\n",
    "for i in range(1, 20):\n",
    "    knn2 = KNeighborsClassifier(n_neighbors = i)\n",
    "    knn2.fit(x_train.T, y_train.T)\n",
    "    scoreList.append(knn2.score(x_test.T, y_test.T))\n",
    "\n",
    "optimal_k = scoreList.index(max(scoreList)) + 1\n",
    "print(\"Nilai k terbaik adalah\", optimal_k)\n",
    "print(\"Akurasi terbaik adalah {:.2f}%\".format(max(scoreList)*100))\n",
    "\n",
    "plt.plot(range(1, 20), scoreList)\n",
    "plt.xticks(np.arange(1, 20, 1))\n",
    "plt.xlabel(\"K value\")\n",
    "plt.ylabel(\"Score\")\n",
    "\n",
    "acc = max(scoreList)*100\n",
    "accuracies['KNN'] = acc\n",
    "\n",
    "# Save the model\n",
    "filename = 'model/KNN_Model.pkl'\n",
    "pickle.dump(knn2, open(filename, 'wb'))\n",
    "\n",
    "plt.show()"
   ]
  },
  {
   "cell_type": "markdown",
   "id": "6f9873cd-57f5-4a5c-8a71-0bafe7dc5b6b",
   "metadata": {},
   "source": [
    "#### SVM"
   ]
  },
  {
   "cell_type": "code",
   "execution_count": 32,
   "id": "bd64f670-6e18-4ead-a8c5-2e6c6e0f7a25",
   "metadata": {},
   "outputs": [
    {
     "name": "stdout",
     "output_type": "stream",
     "text": [
      "Test Accuracy of SVM Algorithm: 86.70%\n"
     ]
    }
   ],
   "source": [
    "svm = SVC(kernel='rbf', C=1, gamma=2)\n",
    "svm = svm.fit(x_train.T, y_train.T)\n",
    "prediction = svm.predict(x_test.T)\n",
    "print(\"Test Accuracy of SVM Algorithm: {:.2f}%\".format(acc))"
   ]
  },
  {
   "cell_type": "code",
   "execution_count": 33,
   "id": "6401cc0c-537a-4652-bbb0-8be12282bb40",
   "metadata": {},
   "outputs": [
    {
     "name": "stdout",
     "output_type": "stream",
     "text": [
      "Parameter terbaik:  {'C': 100, 'gamma': 1, 'kernel': 'rbf'}\n",
      "Skor akurasi:  0.927964661909616\n"
     ]
    }
   ],
   "source": [
    "svm = SVC()\n",
    "param_grid = [\n",
    "  {'C': [0.5, 1, 10, 100], 'kernel': ['linear']},\n",
    "  {'C': [0.5, 1, 10, 100], 'gamma': [1, 0.1, 0.01, 0.001, 0.0001], 'kernel': ['rbf']},\n",
    "  {'C': [0.5, 1, 10, 100], 'gamma': [1, 0.1, 0.01, 0.001, 0.0001], 'kernel': ['poly']},\n",
    "  {'C': [0.5, 1, 10, 100], 'gamma': [1, 0.1, 0.01, 0.001, 0.0001], 'kernel': ['sigmoid']}\n",
    "]\n",
    "\n",
    "grid_search = GridSearchCV(svm, param_grid)\n",
    "\n",
    "grid_search.fit(x_train.T, y_train.T)\n",
    "\n",
    "acc = grid_search.best_score_*100\n",
    "accuracies['SVM'] = acc\n",
    "\n",
    "# Save the model\n",
    "filename = 'model/SVM_Model.pkl'\n",
    "pickle.dump(grid_search, open(filename, 'wb'))\n",
    "\n",
    "print(\"Parameter terbaik: \", grid_search.best_params_)\n",
    "print(\"Skor akurasi: \", grid_search.best_score_)"
   ]
  },
  {
   "cell_type": "markdown",
   "id": "d5738021-29aa-418f-a925-26079e9a387d",
   "metadata": {},
   "source": [
    "#### Naive Bayes"
   ]
  },
  {
   "cell_type": "code",
   "execution_count": 34,
   "id": "f1f5862b-ca86-4735-93e9-7ea7bbefed9d",
   "metadata": {},
   "outputs": [
    {
     "name": "stdout",
     "output_type": "stream",
     "text": [
      "Accuracy of Naive Bayes: 82.40%\n"
     ]
    }
   ],
   "source": [
    "from sklearn.naive_bayes import GaussianNB\n",
    "nb = GaussianNB()\n",
    "nb.fit(x_train.T, y_train.T)\n",
    "\n",
    "acc = nb.score(x_test.T,y_test.T)*100\n",
    "accuracies['Naive Bayes'] = acc\n",
    "print(\"Accuracy of Naive Bayes: {:.2f}%\".format(acc))"
   ]
  },
  {
   "cell_type": "markdown",
   "id": "926c81aa-80b4-46c6-ad0d-ca24022d77b8",
   "metadata": {},
   "source": [
    "#### Comparing Model"
   ]
  },
  {
   "cell_type": "code",
   "execution_count": 35,
   "id": "4dfa0003-e70f-43ca-9c5e-85381f65a954",
   "metadata": {},
   "outputs": [
    {
     "name": "stderr",
     "output_type": "stream",
     "text": [
      "C:\\Users\\Acer\\AppData\\Local\\Temp\\ipykernel_66012\\447389824.py:8: FutureWarning: \n",
      "\n",
      "Passing `palette` without assigning `hue` is deprecated and will be removed in v0.14.0. Assign the `x` variable to `hue` and set `legend=False` for the same effect.\n",
      "\n",
      "  sns.barplot(x=list(accuracies.keys()), y=list(accuracies.values()), palette=colors)\n"
     ]
    },
    {
     "data": {
      "image/png": "[encoded data removed]",
      "text/plain": [
       "<Figure size 1600x500 with 1 Axes>"
      ]
     },
     "metadata": {},
     "output_type": "display_data"
    }
   ],
   "source": [
    "colors = [\"purple\", \"orange\", \"green\"]\n",
    "\n",
    "sns.set_style(\"whitegrid\")\n",
    "plt.figure(figsize=(16,5))\n",
    "plt.yticks(np.arange(0,100,10))\n",
    "plt.ylabel(\"Accuracy %\")\n",
    "plt.xlabel(\"Method\")\n",
    "sns.barplot(x=list(accuracies.keys()), y=list(accuracies.values()), palette=colors)\n",
    "plt.show()"
   ]
  },
  {
   "cell_type": "markdown",
   "id": "860e1c2b-e2a3-44e0-bbda-656f56451a86",
   "metadata": {},
   "source": [
    "#### Confusion Matrix"
   ]
  },
  {
   "cell_type": "markdown",
   "id": "42a8315e-057f-41fa-85ea-11b753324051",
   "metadata": {},
   "source": [
    "KNN"
   ]
  },
  {
   "cell_type": "code",
   "execution_count": 36,
   "id": "69012fa1-81e5-4aeb-bccd-c1295b40e61a",
   "metadata": {},
   "outputs": [
    {
     "data": {
      "image/png": "[encoded data removed]",
      "text/plain": [
       "<Figure size 640x480 with 2 Axes>"
      ]
     },
     "metadata": {},
     "output_type": "display_data"
    },
    {
     "name": "stdout",
     "output_type": "stream",
     "text": [
      "              precision    recall  f1-score   support\n",
      "\n",
      "           0       0.71      0.85      0.78        47\n",
      "           1       0.84      0.73      0.78       101\n",
      "           2       0.88      0.92      0.90        85\n",
      "\n",
      "    accuracy                           0.82       233\n",
      "   macro avg       0.81      0.83      0.82       233\n",
      "weighted avg       0.83      0.82      0.82       233\n",
      "\n"
     ]
    }
   ],
   "source": [
    "from sklearn.naive_bayes import GaussianNB\n",
    "nb = GaussianNB()\n",
    "nb.fit(x_train.T, y_train.T)\n",
    "y_pred = nb.predict(x_test.T)\n",
    "\n",
    "cm = confusion_matrix(y_test, y_pred)\n",
    "\n",
    "sns.heatmap(cm, annot=True, cmap='Blues')\n",
    "plt.title('Confusion Matrix')\n",
    "plt.xlabel('Predicted')\n",
    "plt.ylabel('Actual')\n",
    "plt.show()\n",
    "\n",
    "report = classification_report(y_test, y_pred)\n",
    "print(report)"
   ]
  },
  {
   "cell_type": "markdown",
   "id": "d88b921f-511f-4eed-a1b8-9771886c6656",
   "metadata": {},
   "source": [
    "SVM"
   ]
  },
  {
   "cell_type": "code",
   "execution_count": 37,
   "id": "6bde6e1f-4fa1-4185-9a07-f92f873e4e06",
   "metadata": {},
   "outputs": [
    {
     "data": {
      "image/png": "[encoded data removed]",
      "text/plain": [
       "<Figure size 640x480 with 2 Axes>"
      ]
     },
     "metadata": {},
     "output_type": "display_data"
    },
    {
     "name": "stdout",
     "output_type": "stream",
     "text": [
      "              precision    recall  f1-score   support\n",
      "\n",
      "           0       0.83      0.81      0.82        47\n",
      "           1       0.87      0.92      0.89       101\n",
      "           2       1.00      0.94      0.97        85\n",
      "\n",
      "    accuracy                           0.91       233\n",
      "   macro avg       0.90      0.89      0.89       233\n",
      "weighted avg       0.91      0.91      0.91       233\n",
      "\n"
     ]
    }
   ],
   "source": [
    "\n",
    "svm = SVC(kernel='rbf', C=100, gamma=1).fit(x_train.T, y_train.T)\n",
    "y_pred = svm.predict(x_test.T)\n",
    "\n",
    "cm = confusion_matrix(y_test, y_pred)\n",
    "\n",
    "sns.heatmap(cm, annot=True, cmap='Blues')\n",
    "plt.title('Confusion Matrix')\n",
    "plt.xlabel('Predicted')\n",
    "plt.ylabel('Actual')\n",
    "plt.show()\n",
    "\n",
    "report = classification_report(y_test, y_pred)\n",
    "print(report)"
   ]
  },
  {
   "cell_type": "markdown",
   "id": "69f6096d-d731-4254-9c14-98a9aec73121",
   "metadata": {},
   "source": [
    "Naive Bayes"
   ]
  },
  {
   "cell_type": "code",
   "execution_count": 38,
   "id": "15cca221-6b68-40f6-b9b8-a13ec1ecfbf8",
   "metadata": {},
   "outputs": [
    {
     "data": {
      "image/png": "[encoded data removed]",
      "text/plain": [
       "<Figure size 640x480 with 2 Axes>"
      ]
     },
     "metadata": {},
     "output_type": "display_data"
    },
    {
     "name": "stdout",
     "output_type": "stream",
     "text": [
      "              precision    recall  f1-score   support\n",
      "\n",
      "           0       0.71      0.85      0.78        47\n",
      "           1       0.84      0.73      0.78       101\n",
      "           2       0.88      0.92      0.90        85\n",
      "\n",
      "    accuracy                           0.82       233\n",
      "   macro avg       0.81      0.83      0.82       233\n",
      "weighted avg       0.83      0.82      0.82       233\n",
      "\n"
     ]
    }
   ],
   "source": [
    "nb = GaussianNB()\n",
    "nb.fit(x_train.T, y_train.T)\n",
    "y_pred = nb.predict(x_test.T)\n",
    "\n",
    "cm = confusion_matrix(y_test, y_pred)\n",
    "\n",
    "sns.heatmap(cm, annot=True, cmap='Blues')\n",
    "plt.title('Confusion Matrix')\n",
    "plt.xlabel('Predicted')\n",
    "plt.ylabel('Actual')\n",
    "plt.show()\n",
    "\n",
    "report = classification_report(y_test, y_pred)\n",
    "print(report)"
   ]
  },
  {
   "cell_type": "code",
   "execution_count": null,
   "id": "092e5c55-af7b-4585-82e4-08c2d8fd0cc7",
   "metadata": {},
   "outputs": [],
   "source": []
  }
 ],
 "metadata": {
  "kernelspec": {
   "display_name": "Python 3 (ipykernel)",
   "language": "python",
   "name": "python3"
  },
  "language_info": {
   "codemirror_mode": {
    "name": "ipython",
    "version": 3
   },
   "file_extension": ".py",
   "mimetype": "text/x-python",
   "name": "python",
   "nbconvert_exporter": "python",
   "pygments_lexer": "ipython3",
   "version": "3.10.11"
  }
 },
 "nbformat": 4,
 "nbformat_minor": 5
}
